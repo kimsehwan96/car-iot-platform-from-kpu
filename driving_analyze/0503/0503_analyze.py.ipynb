{
 "cells": [
  {
   "cell_type": "code",
   "execution_count": null,
   "id": "39aec798",
   "metadata": {},
   "outputs": [],
   "source": [
    "import pandas as pd # 판다스"
   ]
  },
  {
   "cell_type": "code",
   "execution_count": null,
   "id": "0d6d2862",
   "metadata": {},
   "outputs": [],
   "source": [
    "data = pd.read_csv('./driving_result.csv') #데이터 불러오기"
   ]
  },
  {
   "cell_type": "code",
   "execution_count": null,
   "id": "ed5d8eb4",
   "metadata": {},
   "outputs": [],
   "source": [
    "data.head()"
   ]
  },
  {
   "cell_type": "code",
   "execution_count": null,
   "id": "de2baab8",
   "metadata": {},
   "outputs": [],
   "source": [
    "%matplotlib inline"
   ]
  },
  {
   "cell_type": "code",
   "execution_count": null,
   "id": "59d0eae7",
   "metadata": {},
   "outputs": [],
   "source": [
    "import seaborn as sns\n",
    "import matplotlib.pyplot as plt"
   ]
  },
  {
   "cell_type": "code",
   "execution_count": null,
   "id": "42c69983",
   "metadata": {},
   "outputs": [],
   "source": [
    "sns.lineplot(data=data, x='timestamp', y='engine_load')"
   ]
  },
  {
   "cell_type": "code",
   "execution_count": null,
   "id": "3834bea0",
   "metadata": {},
   "outputs": [],
   "source": [
    "sns.lineplot(data=data, x='timestamp', y='engine_rpm')"
   ]
  },
  {
   "cell_type": "code",
   "execution_count": null,
   "id": "7568d3b6",
   "metadata": {},
   "outputs": [],
   "source": [
    "sns.lineplot(data=data, x='timestamp', y='fuel_tank_level')"
   ]
  },
  {
   "cell_type": "code",
   "execution_count": null,
   "id": "5ffab259",
   "metadata": {},
   "outputs": [],
   "source": [
    "sns.lineplot(data=data, x='timestamp', y='short_fuel_trim_bank')"
   ]
  },
  {
   "cell_type": "code",
   "execution_count": null,
   "id": "a61161ae",
   "metadata": {},
   "outputs": [],
   "source": [
    "fig = plt.figure(figsize=(20, 12))"
   ]
  },
  {
   "cell_type": "code",
   "execution_count": null,
   "id": "e3acbb63",
   "metadata": {},
   "outputs": [],
   "source": [
    "ax = fig.add_subplot(1,1,1)"
   ]
  },
  {
   "cell_type": "code",
   "execution_count": null,
   "id": "b5f744ca",
   "metadata": {},
   "outputs": [],
   "source": [
    "ax.plot(data['throttle'], label='throttle', color='b')\n",
    "ax.plot(data['engine_rpm'], label='rpm', color='r')\n",
    "ax.plot(data['engine_load'], label='load', color='g')\n",
    "\n",
    "ax.set_title('test')"
   ]
  },
  {
   "cell_type": "code",
   "execution_count": null,
   "id": "bd7d3b16",
   "metadata": {},
   "outputs": [],
   "source": [
    "plt.show()"
   ]
  },
  {
   "cell_type": "code",
   "execution_count": null,
   "id": "2460f1d2",
   "metadata": {},
   "outputs": [],
   "source": [
    "data.drop(['traveled_distance', 'engine_runtime', 'engine_rpm', 'vehicle_speed', 'short_fuel_trim_bank', 'ambient_air_temperature'], axis=1).plot(figsize=(20,10))"
   ]
  },
  {
   "cell_type": "code",
   "execution_count": null,
   "id": "cea4b4db",
   "metadata": {},
   "outputs": [],
   "source": []
  }
 ],
 "metadata": {
  "kernelspec": {
   "display_name": "Python 3",
   "language": "python",
   "name": "python3"
  },
  "language_info": {
   "codemirror_mode": {
    "name": "ipython",
    "version": 3
   },
   "file_extension": ".py",
   "mimetype": "text/x-python",
   "name": "python",
   "nbconvert_exporter": "python",
   "pygments_lexer": "ipython3",
   "version": "3.9.5"
  }
 },
 "nbformat": 4,
 "nbformat_minor": 5
}